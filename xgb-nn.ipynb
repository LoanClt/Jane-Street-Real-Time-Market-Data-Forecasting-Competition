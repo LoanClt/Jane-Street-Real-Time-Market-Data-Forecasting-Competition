{
 "cells": [
  {
   "cell_type": "code",
   "execution_count": 1,
   "id": "e411847f",
   "metadata": {
    "_cell_guid": "b1076dfc-b9ad-4769-8c92-a6c4dae69d19",
    "_uuid": "8f2839f25d086af736a60e9eeb907d3b93b6e0e5",
    "execution": {
     "iopub.execute_input": "2025-01-13T07:02:29.945772Z",
     "iopub.status.busy": "2025-01-13T07:02:29.945558Z",
     "iopub.status.idle": "2025-01-13T07:02:42.922624Z",
     "shell.execute_reply": "2025-01-13T07:02:42.921705Z"
    },
    "papermill": {
     "duration": 12.986202,
     "end_time": "2025-01-13T07:02:42.924317",
     "exception": false,
     "start_time": "2025-01-13T07:02:29.938115",
     "status": "completed"
    },
    "tags": []
   },
   "outputs": [],
   "source": [
    "import pandas as pd\n",
    "import polars as pl\n",
    "import numpy as np\n",
    "import os, gc\n",
    "from tqdm.auto import tqdm\n",
    "from matplotlib import pyplot as plt\n",
    "import pickle\n",
    "\n",
    "import torch\n",
    "import torch.nn as nn\n",
    "import torch.nn.functional as F\n",
    "from pytorch_lightning import (LightningDataModule, LightningModule, Trainer)\n",
    "from pytorch_lightning.callbacks import EarlyStopping, ModelCheckpoint, Timer\n",
    "\n",
    "import pandas as pd\n",
    "import numpy as np\n",
    "from sklearn.metrics import r2_score\n",
    "from sklearn.model_selection import train_test_split\n",
    "from torch.utils.data import Dataset, DataLoader\n",
    "\n",
    "\n",
    "from sklearn.metrics import r2_score\n",
    "from lightgbm import LGBMRegressor\n",
    "import lightgbm as lgb\n",
    "from xgboost import XGBRegressor\n",
    "from catboost import CatBoostRegressor\n",
    "from sklearn.ensemble import VotingRegressor\n",
    "\n",
    "import warnings\n",
    "warnings.filterwarnings('ignore')\n",
    "pd.options.display.max_columns = None\n",
    "\n",
    "import kaggle_evaluation.jane_street_inference_server"
   ]
  },
  {
   "cell_type": "code",
   "execution_count": 2,
   "id": "804f756d",
   "metadata": {
    "execution": {
     "iopub.execute_input": "2025-01-13T07:02:42.934769Z",
     "iopub.status.busy": "2025-01-13T07:02:42.934247Z",
     "iopub.status.idle": "2025-01-13T07:02:42.939968Z",
     "shell.execute_reply": "2025-01-13T07:02:42.939201Z"
    },
    "papermill": {
     "duration": 0.012005,
     "end_time": "2025-01-13T07:02:42.941292",
     "exception": false,
     "start_time": "2025-01-13T07:02:42.929287",
     "status": "completed"
    },
    "tags": []
   },
   "outputs": [],
   "source": [
    "class CONFIG:\n",
    "    seed = 42\n",
    "    target_col = \"responder_6\"\n",
    "    responder_cols = [f\"responder_{idx}\" for idx in range(9)]\n",
    "    lag_cols_rename = { f\"responder_{idx}_lag_1\" : f\"responder_{idx}\" for idx in range(9)}\n",
    "    rename_cols = { f\"responder_{idx}_last_lag\" : f\"responder_{idx}_lag_1\" for idx in range(9)}\n",
    "    xgb_feature_cols =  ['symbol_id','time_id'] \\\n",
    "        + [f\"feature_{idx:02d}\" for idx in range(79)] \\\n",
    "        + [f\"responder_{idx}_mean_lag\" for idx in range(9)] \\\n",
    "        + [f\"responder_{idx}_std_lag\" for idx in range(9)] \\\n",
    "        + [f\"responder_{idx}_max_lag\" for idx in range(9)] \\\n",
    "        + [f\"responder_{idx}_last_lag\" for idx in range(9)] \\\n",
    "        + [f\"responder_{idx}_chg_lag\" for idx in range(9)]\n",
    "    \n",
    "    nn_feature_cols =   [f\"feature_{idx:02d}\" for idx in range(79)] \\\n",
    "        + [f\"responder_{idx}_last_lag\" for idx in range(9)]\n",
    "        #+ [f\"responder_{idx}_mean_lag\" for idx in range(9)] \\\n",
    "        #+ [f\"responder_{idx}_std_lag\" for idx in range(9)] \\\n",
    "        #+ [f\"responder_{idx}_max_lag\" for idx in range(9)] \\\n",
    "        #+ [f\"responder_{idx}_last_lag\" for idx in range(9)] \\\n",
    "        #+ [f\"responder_{idx}_chg_lag\" for idx in range(9)]\n",
    "    \n",
    "    model_paths = [\n",
    "        \"/kaggle/input/nn-model-3\",\n",
    "        \"/kaggle/input/xgb-model-3/result_900.pkl\",\n",
    "    ]"
   ]
  },
  {
   "cell_type": "code",
   "execution_count": 3,
   "id": "577fd348",
   "metadata": {
    "execution": {
     "iopub.execute_input": "2025-01-13T07:02:42.950441Z",
     "iopub.status.busy": "2025-01-13T07:02:42.950209Z",
     "iopub.status.idle": "2025-01-13T07:02:43.067312Z",
     "shell.execute_reply": "2025-01-13T07:02:43.066507Z"
    },
    "papermill": {
     "duration": 0.123191,
     "end_time": "2025-01-13T07:02:43.068745",
     "exception": false,
     "start_time": "2025-01-13T07:02:42.945554",
     "status": "completed"
    },
    "tags": []
   },
   "outputs": [
    {
     "data": {
      "text/html": [
       "<style>#sk-container-id-1 {color: black;background-color: white;}#sk-container-id-1 pre{padding: 0;}#sk-container-id-1 div.sk-toggleable {background-color: white;}#sk-container-id-1 label.sk-toggleable__label {cursor: pointer;display: block;width: 100%;margin-bottom: 0;padding: 0.3em;box-sizing: border-box;text-align: center;}#sk-container-id-1 label.sk-toggleable__label-arrow:before {content: \"▸\";float: left;margin-right: 0.25em;color: #696969;}#sk-container-id-1 label.sk-toggleable__label-arrow:hover:before {color: black;}#sk-container-id-1 div.sk-estimator:hover label.sk-toggleable__label-arrow:before {color: black;}#sk-container-id-1 div.sk-toggleable__content {max-height: 0;max-width: 0;overflow: hidden;text-align: left;background-color: #f0f8ff;}#sk-container-id-1 div.sk-toggleable__content pre {margin: 0.2em;color: black;border-radius: 0.25em;background-color: #f0f8ff;}#sk-container-id-1 input.sk-toggleable__control:checked~div.sk-toggleable__content {max-height: 200px;max-width: 100%;overflow: auto;}#sk-container-id-1 input.sk-toggleable__control:checked~label.sk-toggleable__label-arrow:before {content: \"▾\";}#sk-container-id-1 div.sk-estimator input.sk-toggleable__control:checked~label.sk-toggleable__label {background-color: #d4ebff;}#sk-container-id-1 div.sk-label input.sk-toggleable__control:checked~label.sk-toggleable__label {background-color: #d4ebff;}#sk-container-id-1 input.sk-hidden--visually {border: 0;clip: rect(1px 1px 1px 1px);clip: rect(1px, 1px, 1px, 1px);height: 1px;margin: -1px;overflow: hidden;padding: 0;position: absolute;width: 1px;}#sk-container-id-1 div.sk-estimator {font-family: monospace;background-color: #f0f8ff;border: 1px dotted black;border-radius: 0.25em;box-sizing: border-box;margin-bottom: 0.5em;}#sk-container-id-1 div.sk-estimator:hover {background-color: #d4ebff;}#sk-container-id-1 div.sk-parallel-item::after {content: \"\";width: 100%;border-bottom: 1px solid gray;flex-grow: 1;}#sk-container-id-1 div.sk-label:hover label.sk-toggleable__label {background-color: #d4ebff;}#sk-container-id-1 div.sk-serial::before {content: \"\";position: absolute;border-left: 1px solid gray;box-sizing: border-box;top: 0;bottom: 0;left: 50%;z-index: 0;}#sk-container-id-1 div.sk-serial {display: flex;flex-direction: column;align-items: center;background-color: white;padding-right: 0.2em;padding-left: 0.2em;position: relative;}#sk-container-id-1 div.sk-item {position: relative;z-index: 1;}#sk-container-id-1 div.sk-parallel {display: flex;align-items: stretch;justify-content: center;background-color: white;position: relative;}#sk-container-id-1 div.sk-item::before, #sk-container-id-1 div.sk-parallel-item::before {content: \"\";position: absolute;border-left: 1px solid gray;box-sizing: border-box;top: 0;bottom: 0;left: 50%;z-index: -1;}#sk-container-id-1 div.sk-parallel-item {display: flex;flex-direction: column;z-index: 1;position: relative;background-color: white;}#sk-container-id-1 div.sk-parallel-item:first-child::after {align-self: flex-end;width: 50%;}#sk-container-id-1 div.sk-parallel-item:last-child::after {align-self: flex-start;width: 50%;}#sk-container-id-1 div.sk-parallel-item:only-child::after {width: 0;}#sk-container-id-1 div.sk-dashed-wrapped {border: 1px dashed gray;margin: 0 0.4em 0.5em 0.4em;box-sizing: border-box;padding-bottom: 0.4em;background-color: white;}#sk-container-id-1 div.sk-label label {font-family: monospace;font-weight: bold;display: inline-block;line-height: 1.2em;}#sk-container-id-1 div.sk-label-container {text-align: center;}#sk-container-id-1 div.sk-container {/* jupyter's `normalize.less` sets `[hidden] { display: none; }` but bootstrap.min.css set `[hidden] { display: none !important; }` so we also need the `!important` here to be able to override the default hidden behavior on the sphinx rendered scikit-learn.org. See: https://github.com/scikit-learn/scikit-learn/issues/21755 */display: inline-block !important;position: relative;}#sk-container-id-1 div.sk-text-repr-fallback {display: none;}</style><div id=\"sk-container-id-1\" class=\"sk-top-container\"><div class=\"sk-text-repr-fallback\"><pre>XGBRegressor(base_score=None, booster=None, callbacks=None,\n",
       "             colsample_bylevel=None, colsample_bynode=None,\n",
       "             colsample_bytree=0.8, device=&#x27;cuda&#x27;, early_stopping_rounds=None,\n",
       "             enable_categorical=False, eval_metric=None, feature_types=None,\n",
       "             gamma=None, grow_policy=None, importance_type=None,\n",
       "             interaction_constraints=None, learning_rate=0.05, max_bin=None,\n",
       "             max_cat_threshold=None, max_cat_to_onehot=None,\n",
       "             max_delta_step=None, max_depth=6, max_leaves=None,\n",
       "             min_child_weight=None, missing=nan, monotone_constraints=None,\n",
       "             multi_strategy=None, n_estimators=250, n_gpus=4, n_jobs=None,\n",
       "             num_parallel_tree=None, ...)</pre><b>In a Jupyter environment, please rerun this cell to show the HTML representation or trust the notebook. <br />On GitHub, the HTML representation is unable to render, please try loading this page with nbviewer.org.</b></div><div class=\"sk-container\" hidden><div class=\"sk-item\"><div class=\"sk-estimator sk-toggleable\"><input class=\"sk-toggleable__control sk-hidden--visually\" id=\"sk-estimator-id-1\" type=\"checkbox\" checked><label for=\"sk-estimator-id-1\" class=\"sk-toggleable__label sk-toggleable__label-arrow\">XGBRegressor</label><div class=\"sk-toggleable__content\"><pre>XGBRegressor(base_score=None, booster=None, callbacks=None,\n",
       "             colsample_bylevel=None, colsample_bynode=None,\n",
       "             colsample_bytree=0.8, device=&#x27;cuda&#x27;, early_stopping_rounds=None,\n",
       "             enable_categorical=False, eval_metric=None, feature_types=None,\n",
       "             gamma=None, grow_policy=None, importance_type=None,\n",
       "             interaction_constraints=None, learning_rate=0.05, max_bin=None,\n",
       "             max_cat_threshold=None, max_cat_to_onehot=None,\n",
       "             max_delta_step=None, max_depth=6, max_leaves=None,\n",
       "             min_child_weight=None, missing=nan, monotone_constraints=None,\n",
       "             multi_strategy=None, n_estimators=250, n_gpus=4, n_jobs=None,\n",
       "             num_parallel_tree=None, ...)</pre></div></div></div></div></div>"
      ],
      "text/plain": [
       "XGBRegressor(base_score=None, booster=None, callbacks=None,\n",
       "             colsample_bylevel=None, colsample_bynode=None,\n",
       "             colsample_bytree=0.8, device='cuda', early_stopping_rounds=None,\n",
       "             enable_categorical=False, eval_metric=None, feature_types=None,\n",
       "             gamma=None, grow_policy=None, importance_type=None,\n",
       "             interaction_constraints=None, learning_rate=0.05, max_bin=None,\n",
       "             max_cat_threshold=None, max_cat_to_onehot=None,\n",
       "             max_delta_step=None, max_depth=6, max_leaves=None,\n",
       "             min_child_weight=None, missing=nan, monotone_constraints=None,\n",
       "             multi_strategy=None, n_estimators=250, n_gpus=4, n_jobs=None,\n",
       "             num_parallel_tree=None, ...)"
      ]
     },
     "metadata": {},
     "output_type": "display_data"
    }
   ],
   "source": [
    "xgb_model = None\n",
    "model_path = CONFIG.model_paths[1]\n",
    "with open( model_path, \"rb\") as fp:\n",
    "    result = pickle.load(fp)\n",
    "    xgb_model = result[\"model\"]\n",
    "\n",
    "# Show model\n",
    "display(xgb_model)"
   ]
  },
  {
   "cell_type": "code",
   "execution_count": null,
   "id": "6a7d8973",
   "metadata": {
    "execution": {
     "iopub.execute_input": "2025-01-13T07:02:43.078975Z",
     "iopub.status.busy": "2025-01-13T07:02:43.078719Z",
     "iopub.status.idle": "2025-01-13T07:02:43.091447Z",
     "shell.execute_reply": "2025-01-13T07:02:43.090709Z"
    },
    "papermill": {
     "duration": 0.019177,
     "end_time": "2025-01-13T07:02:43.092710",
     "exception": false,
     "start_time": "2025-01-13T07:02:43.073533",
     "status": "completed"
    },
    "tags": []
   },
   "outputs": [],
   "source": [
    "# Custom R2 metric for validation\n",
    "def r2_val(y_true, y_pred, sample_weight):\n",
    "    r2 = 1 - np.average((y_pred - y_true) ** 2, weights=sample_weight) / (np.average((y_true) ** 2, weights=sample_weight) + 1e-38)\n",
    "    return r2\n",
    "\n",
    "#LightningModule 是一个神经网络类，标准化了模型训练、验证和优化的流程\n",
    "'''\n",
    "神经网络结构如下：\n",
    "Input(0)→BN(0)→Linear(0→1)→BN(1)→SiLU(1)→Dropout(1)→Linear(1→2)→...→Linear→Tanh→Output\n",
    "循环中，除了第0层外，都加入SiLU层，所有dropouts列表长度内，都加入Dropout层\n",
    "'''\n",
    "class NN(LightningModule):\n",
    "    def __init__(self, input_dim, hidden_dims, dropouts, lr, weight_decay): #hidden_dims,dropouts为俩列表\n",
    "        super().__init__()\n",
    "        self.save_hyperparameters() #自动保存__init__方法中的所有输入参数到self.hparams中\n",
    "        layers = []\n",
    "        in_dim = input_dim\n",
    "        for i, hidden_dim in enumerate(hidden_dims):\n",
    "            layers.append(nn.BatchNorm1d(in_dim))\n",
    "            if i > 0:\n",
    "                layers.append(nn.SiLU())\n",
    "            if i < len(dropouts):\n",
    "                layers.append(nn.Dropout(dropouts[i]))\n",
    "            layers.append(nn.Linear(in_dim, hidden_dim))\n",
    "            # layers.append(nn.ReLU())\n",
    "            in_dim = hidden_dim\n",
    "        layers.append(nn.Linear(in_dim, 1))  # 输出层\n",
    "        layers.append(nn.Tanh())\n",
    "        self.model = nn.Sequential(*layers) #将所有层组合存放至Sequential\n",
    "        self.lr = lr\n",
    "        self.weight_decay = weight_decay #L2正则化系数\n",
    "        self.validation_step_outputs = []\n",
    "\n",
    "    def forward(self, x):\n",
    "        return 5 * self.model(x).squeeze(-1)  # 输出为一维张量，输出缩放至[-5,5]\n",
    "\n",
    "    def training_step(self, batch):\n",
    "        x, y, w = batch\n",
    "        y_hat = self(x)\n",
    "        loss = F.mse_loss(y_hat, y, reduction='none') * w  # 考虑样本权重的加权MSE\n",
    "        loss = loss.mean()\n",
    "        self.log('train_loss', loss, on_step=False, on_epoch=True, batch_size=x.size(0))\n",
    "        return loss\n",
    "\n",
    "    def validation_step(self, batch):\n",
    "        x, y, w = batch\n",
    "        y_hat = self(x)\n",
    "        loss = F.mse_loss(y_hat, y, reduction='none') * w\n",
    "        loss = loss.mean()\n",
    "        self.log('val_loss', loss, on_step=False, on_epoch=True, batch_size=x.size(0))\n",
    "        self.validation_step_outputs.append((y_hat, y, w))\n",
    "        return loss\n",
    "\n",
    "    def on_validation_epoch_end(self):\n",
    "        \"\"\"Calculate validation WRMSE at the end of the epoch.\"\"\"\n",
    "        y = torch.cat([x[1] for x in self.validation_step_outputs]).cpu().numpy()\n",
    "        if self.trainer.sanity_checking: #Sanity Check 调试阶段\n",
    "            prob = torch.cat([x[0] for x in self.validation_step_outputs]).cpu().numpy()\n",
    "        else:\n",
    "            prob = torch.cat([x[0] for x in self.validation_step_outputs]).cpu().numpy()\n",
    "            weights = torch.cat([x[2] for x in self.validation_step_outputs]).cpu().numpy()\n",
    "            # r2_val\n",
    "            val_r_square = r2_val(y, prob, weights)\n",
    "            self.log(\"val_r_square\", val_r_square, prog_bar=True, on_step=False, on_epoch=True)\n",
    "        self.validation_step_outputs.clear() #清空缓存\n",
    "\n",
    "    def configure_optimizers(self):\n",
    "        #动态优化器，根据验证损失调整学习率。当 val_loss 在 5 个 epoch 内未下降时，学习率减半（factir = 0.5)\n",
    "        optimizer = torch.optim.Adam(self.parameters(), \n",
    "                                     lr=self.lr, \n",
    "                                     weight_decay=self.weight_decay\n",
    "        )\n",
    "        scheduler = torch.optim.lr_scheduler.ReduceLROnPlateau(\n",
    "            optimizer, \n",
    "            mode='min', \n",
    "            factor=0.5, \n",
    "            patience=5,                                                               \n",
    "            verbose=True\n",
    "        )\n",
    "        return {\n",
    "            'optimizer': optimizer,\n",
    "            'lr_scheduler': {\n",
    "                'scheduler': scheduler,\n",
    "                'monitor': 'val_loss', \n",
    "            }\n",
    "        }\n",
    "\n",
    "    def on_train_epoch_end(self):\n",
    "        if self.trainer.sanity_checking:\n",
    "            return\n",
    "        epoch = self.trainer.current_epoch\n",
    "        metrics = {k: v.item() if isinstance(v, torch.Tensor) else v for k, v in self.trainer.logged_metrics.items()}\n",
    "        formatted_metrics = {k: f\"{v:.5f}\" for k, v in metrics.items()}\n",
    "        print(f\"Epoch {epoch}: {formatted_metrics}\")"
   ]
  },
  {
   "cell_type": "code",
   "execution_count": 5,
   "id": "41172627",
   "metadata": {
    "execution": {
     "iopub.execute_input": "2025-01-13T07:02:43.102355Z",
     "iopub.status.busy": "2025-01-13T07:02:43.102122Z",
     "iopub.status.idle": "2025-01-13T07:02:44.044243Z",
     "shell.execute_reply": "2025-01-13T07:02:44.043533Z"
    },
    "papermill": {
     "duration": 0.948565,
     "end_time": "2025-01-13T07:02:44.045784",
     "exception": false,
     "start_time": "2025-01-13T07:02:43.097219",
     "status": "completed"
    },
    "tags": []
   },
   "outputs": [],
   "source": [
    "N_folds = 5\n",
    "# 加载最佳模型\n",
    "models = []\n",
    "for fold in range(N_folds):\n",
    "    checkpoint_path = f\"{CONFIG.model_paths[0]}/nn_{fold}.model\"\n",
    "    model = NN.load_from_checkpoint(checkpoint_path)\n",
    "    models.append(model.to(\"cuda:0\"))"
   ]
  },
  {
   "cell_type": "code",
   "execution_count": 6,
   "id": "568f0452",
   "metadata": {
    "execution": {
     "iopub.execute_input": "2025-01-13T07:02:44.056000Z",
     "iopub.status.busy": "2025-01-13T07:02:44.055782Z",
     "iopub.status.idle": "2025-01-13T07:02:44.058630Z",
     "shell.execute_reply": "2025-01-13T07:02:44.058010Z"
    },
    "papermill": {
     "duration": 0.008985,
     "end_time": "2025-01-13T07:02:44.059700",
     "exception": false,
     "start_time": "2025-01-13T07:02:44.050715",
     "status": "completed"
    },
    "tags": []
   },
   "outputs": [],
   "source": [
    "#valid = pl.scan_parquet(\n",
    "#    f\"/kaggle/input/data-1200-new/train.parquet\"\n",
    "#).filter(pl.col('date_id')>=1650).collect().to_pandas()"
   ]
  },
  {
   "cell_type": "code",
   "execution_count": 7,
   "id": "a669c40b",
   "metadata": {
    "execution": {
     "iopub.execute_input": "2025-01-13T07:02:44.069290Z",
     "iopub.status.busy": "2025-01-13T07:02:44.069092Z",
     "iopub.status.idle": "2025-01-13T07:02:44.071641Z",
     "shell.execute_reply": "2025-01-13T07:02:44.071098Z"
    },
    "papermill": {
     "duration": 0.008539,
     "end_time": "2025-01-13T07:02:44.072805",
     "exception": false,
     "start_time": "2025-01-13T07:02:44.064266",
     "status": "completed"
    },
    "tags": []
   },
   "outputs": [],
   "source": [
    "#X_valid = valid[ CONFIG.xgb_feature_cols ]\n",
    "#y_valid = valid[ CONFIG.target_col ]\n",
    "#w_valid = valid[ \"weight\" ]\n",
    "#y_pred_valid_xgb = xgb_model.predict(X_valid)\n",
    "#valid_score = r2_score( y_valid, y_pred_valid_xgb, sample_weight=w_valid )\n",
    "#valid_score"
   ]
  },
  {
   "cell_type": "code",
   "execution_count": 8,
   "id": "10a43256",
   "metadata": {
    "execution": {
     "iopub.execute_input": "2025-01-13T07:02:44.082348Z",
     "iopub.status.busy": "2025-01-13T07:02:44.082151Z",
     "iopub.status.idle": "2025-01-13T07:02:44.085037Z",
     "shell.execute_reply": "2025-01-13T07:02:44.084442Z"
    },
    "papermill": {
     "duration": 0.009019,
     "end_time": "2025-01-13T07:02:44.086302",
     "exception": false,
     "start_time": "2025-01-13T07:02:44.077283",
     "status": "completed"
    },
    "tags": []
   },
   "outputs": [],
   "source": [
    "#X_valid = valid[ CONFIG.nn_feature_cols ]\n",
    "#X_valid.rename(columns=CONFIG.rename_cols, inplace=True)\n",
    "#y_valid = valid[ CONFIG.target_col ]\n",
    "#w_valid = valid[ \"weight\" ]\n",
    "#X_valid = X_valid.fillna(method = 'ffill').fillna(0)\n",
    "#X_valid.shape, y_valid.shape, w_valid.shape"
   ]
  },
  {
   "cell_type": "code",
   "execution_count": 9,
   "id": "1f32df44",
   "metadata": {
    "execution": {
     "iopub.execute_input": "2025-01-13T07:02:44.095831Z",
     "iopub.status.busy": "2025-01-13T07:02:44.095603Z",
     "iopub.status.idle": "2025-01-13T07:02:44.098377Z",
     "shell.execute_reply": "2025-01-13T07:02:44.097758Z"
    },
    "papermill": {
     "duration": 0.008857,
     "end_time": "2025-01-13T07:02:44.099574",
     "exception": false,
     "start_time": "2025-01-13T07:02:44.090717",
     "status": "completed"
    },
    "tags": []
   },
   "outputs": [],
   "source": [
    "#y_pred_valid_nn = np.zeros(y_valid.shape)\n",
    "#with torch.no_grad():\n",
    "#    for model in models:\n",
    "#        model.eval()\n",
    "#        y_pred_valid_nn += model(torch.FloatTensor(X_valid.values).to(\"cuda:0\")).cpu().numpy() / len(models)\n",
    "#valid_score = r2_score( y_valid, y_pred_valid_nn, sample_weight=w_valid )\n",
    "#valid_score"
   ]
  },
  {
   "cell_type": "code",
   "execution_count": 10,
   "id": "33ad90c5",
   "metadata": {
    "execution": {
     "iopub.execute_input": "2025-01-13T07:02:44.109143Z",
     "iopub.status.busy": "2025-01-13T07:02:44.108910Z",
     "iopub.status.idle": "2025-01-13T07:02:44.111635Z",
     "shell.execute_reply": "2025-01-13T07:02:44.110992Z"
    },
    "papermill": {
     "duration": 0.008712,
     "end_time": "2025-01-13T07:02:44.112808",
     "exception": false,
     "start_time": "2025-01-13T07:02:44.104096",
     "status": "completed"
    },
    "tags": []
   },
   "outputs": [],
   "source": [
    "#y_pred_valid_ensemble =  (y_pred_valid_xgb*1/3 + y_pred_valid_nn*2/3)\n",
    "#valid_score = r2_score( y_valid, y_pred_valid_ensemble, sample_weight=w_valid )\n",
    "#valid_score"
   ]
  },
  {
   "cell_type": "code",
   "execution_count": 11,
   "id": "f02aa175",
   "metadata": {
    "execution": {
     "iopub.execute_input": "2025-01-13T07:02:44.122433Z",
     "iopub.status.busy": "2025-01-13T07:02:44.122241Z",
     "iopub.status.idle": "2025-01-13T07:02:44.124906Z",
     "shell.execute_reply": "2025-01-13T07:02:44.124300Z"
    },
    "papermill": {
     "duration": 0.008638,
     "end_time": "2025-01-13T07:02:44.125967",
     "exception": false,
     "start_time": "2025-01-13T07:02:44.117329",
     "status": "completed"
    },
    "tags": []
   },
   "outputs": [],
   "source": [
    "#y_pred_valid_ensemble =  (y_pred_valid_xgb*2/4 + y_pred_valid_nn*2/4)\n",
    "#valid_score = r2_score( y_valid, y_pred_valid_ensemble, sample_weight=w_valid )\n",
    "#valid_score"
   ]
  },
  {
   "cell_type": "code",
   "execution_count": 12,
   "id": "c4f641da",
   "metadata": {
    "execution": {
     "iopub.execute_input": "2025-01-13T07:02:44.135502Z",
     "iopub.status.busy": "2025-01-13T07:02:44.135314Z",
     "iopub.status.idle": "2025-01-13T07:02:44.138174Z",
     "shell.execute_reply": "2025-01-13T07:02:44.137383Z"
    },
    "papermill": {
     "duration": 0.008845,
     "end_time": "2025-01-13T07:02:44.139348",
     "exception": false,
     "start_time": "2025-01-13T07:02:44.130503",
     "status": "completed"
    },
    "tags": []
   },
   "outputs": [],
   "source": [
    "#y_pred_valid_ensemble =  (y_pred_valid_xgb*2/3 + y_pred_valid_nn*1/3)\n",
    "#valid_score = r2_score( y_valid, y_pred_valid_ensemble, sample_weight=w_valid )\n",
    "#valid_score"
   ]
  },
  {
   "cell_type": "code",
   "execution_count": 13,
   "id": "ee31bbe8",
   "metadata": {
    "execution": {
     "iopub.execute_input": "2025-01-13T07:02:44.148927Z",
     "iopub.status.busy": "2025-01-13T07:02:44.148734Z",
     "iopub.status.idle": "2025-01-13T07:02:44.151169Z",
     "shell.execute_reply": "2025-01-13T07:02:44.150587Z"
    },
    "papermill": {
     "duration": 0.00863,
     "end_time": "2025-01-13T07:02:44.152379",
     "exception": false,
     "start_time": "2025-01-13T07:02:44.143749",
     "status": "completed"
    },
    "tags": []
   },
   "outputs": [],
   "source": [
    "#del valid, X_valid, y_valid, w_valid\n",
    "#gc.collect()"
   ]
  },
  {
   "cell_type": "code",
   "execution_count": 14,
   "id": "e3e1ebe6",
   "metadata": {
    "execution": {
     "iopub.execute_input": "2025-01-13T07:02:44.161817Z",
     "iopub.status.busy": "2025-01-13T07:02:44.161623Z",
     "iopub.status.idle": "2025-01-13T07:02:45.270468Z",
     "shell.execute_reply": "2025-01-13T07:02:45.269737Z"
    },
    "papermill": {
     "duration": 1.11519,
     "end_time": "2025-01-13T07:02:45.272006",
     "exception": false,
     "start_time": "2025-01-13T07:02:44.156816",
     "status": "completed"
    },
    "tags": []
   },
   "outputs": [],
   "source": [
    "history = pl.scan_parquet(\n",
    "    \"/kaggle/input/jane-street-real-time-market-data-forecasting/train.parquet\"\n",
    ").select(['date_id','time_id','symbol_id','weight'] + [f\"feature_{idx:02d}\" for idx in range(79)] + [f\"responder_{idx}\" for idx in range(9)]).filter(\n",
    "    (pl.col(\"date_id\")==1697)\n",
    ").with_columns(\n",
    "    date_id = (pl.col(\"date_id\") - pl.lit(1698)).cast(pl.Int16)\n",
    ").collect()"
   ]
  },
  {
   "cell_type": "code",
   "execution_count": 15,
   "id": "b5591ab6",
   "metadata": {
    "execution": {
     "iopub.execute_input": "2025-01-13T07:02:45.282294Z",
     "iopub.status.busy": "2025-01-13T07:02:45.282014Z",
     "iopub.status.idle": "2025-01-13T07:02:45.294349Z",
     "shell.execute_reply": "2025-01-13T07:02:45.293793Z"
    },
    "papermill": {
     "duration": 0.018698,
     "end_time": "2025-01-13T07:02:45.295582",
     "exception": false,
     "start_time": "2025-01-13T07:02:45.276884",
     "status": "completed"
    },
    "tags": []
   },
   "outputs": [],
   "source": [
    "history_column_types = {\n",
    "    'date_id': pl.Int16,\n",
    "    'time_id': pl.Int16,\n",
    "    'symbol_id': pl.Int16,\n",
    "}\n",
    "\n",
    "feature_column_types = {}\n",
    "for f in [f\"feature_{idx:02d}\" for idx in range(79)]:\n",
    "    feature_column_types[f] = pl.Float32\n",
    "\n",
    "responder_column_types = {}\n",
    "for f in [f\"responder_{idx}\" for idx in range(9)]:\n",
    "    responder_column_types[f] = pl.Float32\n",
    "\n",
    "responder_lag_column_types = {}\n",
    "for f in [f\"responder_{idx}_lag_1\" for idx in range(9)]:\n",
    "    responder_lag_column_types[f] = pl.Float32\n",
    "\n",
    "history = history.cast(feature_column_types)\n",
    "history = history.cast(responder_column_types)\n",
    "history = history.cast(history_column_types)"
   ]
  },
  {
   "cell_type": "code",
   "execution_count": 16,
   "id": "e38703e8",
   "metadata": {
    "execution": {
     "iopub.execute_input": "2025-01-13T07:02:45.305930Z",
     "iopub.status.busy": "2025-01-13T07:02:45.305730Z",
     "iopub.status.idle": "2025-01-13T07:02:45.310368Z",
     "shell.execute_reply": "2025-01-13T07:02:45.309784Z"
    },
    "papermill": {
     "duration": 0.011164,
     "end_time": "2025-01-13T07:02:45.311617",
     "exception": false,
     "start_time": "2025-01-13T07:02:45.300453",
     "status": "completed"
    },
    "tags": []
   },
   "outputs": [],
   "source": [
    "def create_agg_list(columns):\n",
    "    agg_mean_list = [pl.col(c).mean().name.suffix(f\"_mean_lag\") for c in columns]\n",
    "    agg_std_list = [pl.col(c).std().name.suffix(f\"_std_lag\") for c in columns]\n",
    "    agg_max_list = [pl.col(c).max().name.suffix(f\"_max_lag\") for c in columns]\n",
    "    agg_first_list = [pl.col(c).first().name.suffix(f\"_first_lag\") for c in columns]\n",
    "    agg_last_list = [pl.col(c).last().name.suffix(f\"_last_lag\") for c in columns]\n",
    "    agg_chg_list = [(pl.col(c).last()/pl.col(c).first() - 1).name.suffix(f\"_chg_lag\") for c in columns]\n",
    "    agg_list = agg_mean_list + agg_std_list + agg_max_list + agg_last_list + agg_chg_list\n",
    "    return agg_list"
   ]
  },
  {
   "cell_type": "code",
   "execution_count": null,
   "id": "663c3054",
   "metadata": {
    "execution": {
     "iopub.execute_input": "2025-01-13T07:02:45.321455Z",
     "iopub.status.busy": "2025-01-13T07:02:45.321256Z",
     "iopub.status.idle": "2025-01-13T07:02:45.330645Z",
     "shell.execute_reply": "2025-01-13T07:02:45.330095Z"
    },
    "papermill": {
     "duration": 0.0155,
     "end_time": "2025-01-13T07:02:45.331743",
     "exception": false,
     "start_time": "2025-01-13T07:02:45.316243",
     "status": "completed"
    },
    "tags": []
   },
   "outputs": [],
   "source": [
    "def predict(test: pl.DataFrame, lags: pl.DataFrame | None) -> pl.DataFrame | pd.DataFrame:\n",
    "\n",
    "    global history\n",
    "    global lags_infer\n",
    "    global lags_c\n",
    "    \n",
    "    #获取当前的symbol列表，date和time\n",
    "    symbol_ids = test.select(\"symbol_id\").to_numpy()[:, 0]\n",
    "    current_date = test.select(\"date_id\").to_numpy()[:, 0][0]\n",
    "    current_time = test.select('time_id').to_numpy()[:, 0][0]\n",
    "\n",
    "    #确保数据格式，以便后续相关操作不会出错\n",
    "    test = test.cast(history_column_types)\n",
    "    test = test.cast(feature_column_types)\n",
    "\n",
    "    #初始化DataFrame\n",
    "    predictions = test.select(\n",
    "        'row_id',\n",
    "        pl.lit(0.0).alias('responder_6'),\n",
    "    )\n",
    "\n",
    "    #特征工程\n",
    "    agg_list = create_agg_list(CONFIG.responder_cols) \n",
    "\n",
    "    #在每天的第一个时间段\n",
    "    if current_time == 0 :\n",
    "        shift_n_data = history.filter(pl.col('date_id') == current_date - 1 ) #取出昨天的所有数据\n",
    "        lags_infer = shift_n_data.group_by([\"date_id\", \"symbol_id\"], maintain_order=True).agg(agg_list) #计算今天要用的lag特征\n",
    "        lags_infer = lags_infer.with_columns(date_id = (pl.col(\"date_id\") + pl.lit(1)).cast(pl.Int16)) #之后特征date+1对齐当前时间\n",
    "        history = history.filter(pl.col(\"date_id\") == current_date) #除去昨天的数据\n",
    "\n",
    "    # 预测时，某个时间段的lags可能会传入一个空集。\n",
    "    # 如果传入的是空集，则用昨日的lags来进行预测；如果并非空集，则进行更新    \n",
    "    if lags is not None :\n",
    "        lags_c = lags\n",
    "        lags_c = lags_c.rename(CONFIG.lag_cols_rename) \n",
    "        lags_c = lags_c.cast(history_column_types)\n",
    "        lags_c = lags_c.cast(responder_column_types)\n",
    "\n",
    "    # 更新数据    \n",
    "    current_data = test.join(lags_c, on=['date_id','time_id','symbol_id'], how='left').drop('row_id','is_scored')\n",
    "    history = pl.concat([history,current_data]) #拼接，用于更新history\n",
    "    X_test = test.join(lags_infer, on=[\"date_id\", \"symbol_id\"], how=\"left\")    \n",
    "\n",
    "    preds = np.zeros((X_test.shape[0],))\n",
    "    preds += xgb_model.predict(X_test[CONFIG.xgb_feature_cols].to_pandas()) / 2 #XGB预测，权重0.5\n",
    "\n",
    "    test_input = X_test[CONFIG.nn_feature_cols].to_pandas()\n",
    "    test_input = test_input.fillna(method='ffill').fillna(0)\n",
    "    test_input.rename(columns=CONFIG.rename_cols, inplace=True)\n",
    "    test_input = torch.FloatTensor(test_input.values).to(\"cuda:0\")\n",
    "    \n",
    "    \n",
    "    with torch.no_grad():\n",
    "        for i, nn_model in enumerate(tqdm(models)):\n",
    "            nn_model.eval()\n",
    "            preds += nn_model(test_input).cpu().numpy() / (len(models)*2) #NN预测，权重0.5\n",
    "\n",
    "    #Output\n",
    "    predictions = (\n",
    "        test.select('row_id').with_columns(\n",
    "            pl.Series(name='responder_6', values=preds, dtype=pl.Float32)\n",
    "        )\n",
    "    )\n",
    "\n",
    "    assert isinstance(predictions, pl.DataFrame | pd.DataFrame)\n",
    "    assert list(predictions.columns) == ['row_id', 'responder_6']\n",
    "    assert len(predictions) == len(test)\n",
    "\n",
    "    return predictions"
   ]
  },
  {
   "cell_type": "code",
   "execution_count": 18,
   "id": "0040bb7c",
   "metadata": {
    "execution": {
     "iopub.execute_input": "2025-01-13T07:02:45.341234Z",
     "iopub.status.busy": "2025-01-13T07:02:45.341015Z",
     "iopub.status.idle": "2025-01-13T07:02:45.898465Z",
     "shell.execute_reply": "2025-01-13T07:02:45.897738Z"
    },
    "papermill": {
     "duration": 0.563608,
     "end_time": "2025-01-13T07:02:45.899830",
     "exception": false,
     "start_time": "2025-01-13T07:02:45.336222",
     "status": "completed"
    },
    "tags": []
   },
   "outputs": [
    {
     "data": {
      "application/vnd.jupyter.widget-view+json": {
       "model_id": "ef59ebf1c29048358db48d80f5da9eb5",
       "version_major": 2,
       "version_minor": 0
      },
      "text/plain": [
       "  0%|          | 0/5 [00:00<?, ?it/s]"
      ]
     },
     "metadata": {},
     "output_type": "display_data"
    }
   ],
   "source": [
    "inference_server = kaggle_evaluation.jane_street_inference_server.JSInferenceServer(predict)\n",
    "\n",
    "if os.getenv('KAGGLE_IS_COMPETITION_RERUN'):\n",
    "    inference_server.serve()\n",
    "else:\n",
    "    inference_server.run_local_gateway(\n",
    "        (\n",
    "            '/kaggle/input/jane-street-real-time-market-data-forecasting/test.parquet',\n",
    "            '/kaggle/input/jane-street-real-time-market-data-forecasting/lags.parquet',\n",
    "        )\n",
    "    )"
   ]
  },
  {
   "cell_type": "code",
   "execution_count": null,
   "id": "7cbbed63",
   "metadata": {
    "papermill": {
     "duration": 0.004466,
     "end_time": "2025-01-13T07:02:45.909362",
     "exception": false,
     "start_time": "2025-01-13T07:02:45.904896",
     "status": "completed"
    },
    "tags": []
   },
   "outputs": [],
   "source": []
  },
  {
   "cell_type": "code",
   "execution_count": null,
   "id": "9587c11d",
   "metadata": {
    "papermill": {
     "duration": 0.004224,
     "end_time": "2025-01-13T07:02:45.918099",
     "exception": false,
     "start_time": "2025-01-13T07:02:45.913875",
     "status": "completed"
    },
    "tags": []
   },
   "outputs": [],
   "source": []
  },
  {
   "cell_type": "code",
   "execution_count": null,
   "id": "87332a52",
   "metadata": {
    "papermill": {
     "duration": 0.004206,
     "end_time": "2025-01-13T07:02:45.926696",
     "exception": false,
     "start_time": "2025-01-13T07:02:45.922490",
     "status": "completed"
    },
    "tags": []
   },
   "outputs": [],
   "source": []
  },
  {
   "cell_type": "code",
   "execution_count": null,
   "id": "25e32b13",
   "metadata": {
    "papermill": {
     "duration": 0.004171,
     "end_time": "2025-01-13T07:02:45.935333",
     "exception": false,
     "start_time": "2025-01-13T07:02:45.931162",
     "status": "completed"
    },
    "tags": []
   },
   "outputs": [],
   "source": []
  },
  {
   "cell_type": "code",
   "execution_count": null,
   "id": "1af9b1a7",
   "metadata": {
    "papermill": {
     "duration": 0.004243,
     "end_time": "2025-01-13T07:02:45.943956",
     "exception": false,
     "start_time": "2025-01-13T07:02:45.939713",
     "status": "completed"
    },
    "tags": []
   },
   "outputs": [],
   "source": []
  },
  {
   "cell_type": "code",
   "execution_count": null,
   "id": "779b812f",
   "metadata": {
    "papermill": {
     "duration": 0.004263,
     "end_time": "2025-01-13T07:02:45.952650",
     "exception": false,
     "start_time": "2025-01-13T07:02:45.948387",
     "status": "completed"
    },
    "tags": []
   },
   "outputs": [],
   "source": []
  },
  {
   "cell_type": "code",
   "execution_count": null,
   "id": "778956b4",
   "metadata": {
    "papermill": {
     "duration": 0.004214,
     "end_time": "2025-01-13T07:02:45.961225",
     "exception": false,
     "start_time": "2025-01-13T07:02:45.957011",
     "status": "completed"
    },
    "tags": []
   },
   "outputs": [],
   "source": []
  },
  {
   "cell_type": "code",
   "execution_count": null,
   "id": "b0ebd13f",
   "metadata": {
    "papermill": {
     "duration": 0.004321,
     "end_time": "2025-01-13T07:02:45.969965",
     "exception": false,
     "start_time": "2025-01-13T07:02:45.965644",
     "status": "completed"
    },
    "tags": []
   },
   "outputs": [],
   "source": []
  },
  {
   "cell_type": "code",
   "execution_count": null,
   "id": "8c31abcd",
   "metadata": {
    "papermill": {
     "duration": 0.004766,
     "end_time": "2025-01-13T07:02:45.979293",
     "exception": false,
     "start_time": "2025-01-13T07:02:45.974527",
     "status": "completed"
    },
    "tags": []
   },
   "outputs": [],
   "source": []
  }
 ],
 "metadata": {
  "kaggle": {
   "accelerator": "nvidiaTeslaT4",
   "dataSources": [
    {
     "databundleVersionId": 9871156,
     "sourceId": 84493,
     "sourceType": "competition"
    },
    {
     "datasetId": 6463310,
     "sourceId": 10442261,
     "sourceType": "datasetVersion"
    },
    {
     "datasetId": 6465663,
     "sourceId": 10445514,
     "sourceType": "datasetVersion"
    },
    {
     "datasetId": 6465839,
     "sourceId": 10445746,
     "sourceType": "datasetVersion"
    },
    {
     "datasetId": 6469382,
     "sourceId": 10451202,
     "sourceType": "datasetVersion"
    },
    {
     "datasetId": 6471422,
     "sourceId": 10454102,
     "sourceType": "datasetVersion"
    },
    {
     "datasetId": 6471465,
     "sourceId": 10454166,
     "sourceType": "datasetVersion"
    },
    {
     "datasetId": 6473228,
     "sourceId": 10456918,
     "sourceType": "datasetVersion"
    }
   ],
   "dockerImageVersionId": 30823,
   "isGpuEnabled": true,
   "isInternetEnabled": false,
   "language": "python",
   "sourceType": "notebook"
  },
  "kernelspec": {
   "display_name": "Python 3",
   "language": "python",
   "name": "python3"
  },
  "language_info": {
   "codemirror_mode": {
    "name": "ipython",
    "version": 3
   },
   "file_extension": ".py",
   "mimetype": "text/x-python",
   "name": "python",
   "nbconvert_exporter": "python",
   "pygments_lexer": "ipython3",
   "version": "3.10.12"
  },
  "papermill": {
   "default_parameters": {},
   "duration": 20.788136,
   "end_time": "2025-01-13T07:02:48.441487",
   "environment_variables": {},
   "exception": null,
   "input_path": "__notebook__.ipynb",
   "output_path": "__notebook__.ipynb",
   "parameters": {},
   "start_time": "2025-01-13T07:02:27.653351",
   "version": "2.6.0"
  },
  "widgets": {
   "application/vnd.jupyter.widget-state+json": {
    "state": {
     "123b559396904db78f5a77cb10460ad6": {
      "model_module": "@jupyter-widgets/controls",
      "model_module_version": "2.0.0",
      "model_name": "HTMLStyleModel",
      "state": {
       "_model_module": "@jupyter-widgets/controls",
       "_model_module_version": "2.0.0",
       "_model_name": "HTMLStyleModel",
       "_view_count": null,
       "_view_module": "@jupyter-widgets/base",
       "_view_module_version": "2.0.0",
       "_view_name": "StyleView",
       "background": null,
       "description_width": "",
       "font_size": null,
       "text_color": null
      }
     },
     "39da2929ed8c47cb9aaaa09b3aca7ba6": {
      "model_module": "@jupyter-widgets/base",
      "model_module_version": "2.0.0",
      "model_name": "LayoutModel",
      "state": {
       "_model_module": "@jupyter-widgets/base",
       "_model_module_version": "2.0.0",
       "_model_name": "LayoutModel",
       "_view_count": null,
       "_view_module": "@jupyter-widgets/base",
       "_view_module_version": "2.0.0",
       "_view_name": "LayoutView",
       "align_content": null,
       "align_items": null,
       "align_self": null,
       "border_bottom": null,
       "border_left": null,
       "border_right": null,
       "border_top": null,
       "bottom": null,
       "display": null,
       "flex": null,
       "flex_flow": null,
       "grid_area": null,
       "grid_auto_columns": null,
       "grid_auto_flow": null,
       "grid_auto_rows": null,
       "grid_column": null,
       "grid_gap": null,
       "grid_row": null,
       "grid_template_areas": null,
       "grid_template_columns": null,
       "grid_template_rows": null,
       "height": null,
       "justify_content": null,
       "justify_items": null,
       "left": null,
       "margin": null,
       "max_height": null,
       "max_width": null,
       "min_height": null,
       "min_width": null,
       "object_fit": null,
       "object_position": null,
       "order": null,
       "overflow": null,
       "padding": null,
       "right": null,
       "top": null,
       "visibility": null,
       "width": null
      }
     },
     "6e820054439c4325818ec9a434f54328": {
      "model_module": "@jupyter-widgets/base",
      "model_module_version": "2.0.0",
      "model_name": "LayoutModel",
      "state": {
       "_model_module": "@jupyter-widgets/base",
       "_model_module_version": "2.0.0",
       "_model_name": "LayoutModel",
       "_view_count": null,
       "_view_module": "@jupyter-widgets/base",
       "_view_module_version": "2.0.0",
       "_view_name": "LayoutView",
       "align_content": null,
       "align_items": null,
       "align_self": null,
       "border_bottom": null,
       "border_left": null,
       "border_right": null,
       "border_top": null,
       "bottom": null,
       "display": null,
       "flex": null,
       "flex_flow": null,
       "grid_area": null,
       "grid_auto_columns": null,
       "grid_auto_flow": null,
       "grid_auto_rows": null,
       "grid_column": null,
       "grid_gap": null,
       "grid_row": null,
       "grid_template_areas": null,
       "grid_template_columns": null,
       "grid_template_rows": null,
       "height": null,
       "justify_content": null,
       "justify_items": null,
       "left": null,
       "margin": null,
       "max_height": null,
       "max_width": null,
       "min_height": null,
       "min_width": null,
       "object_fit": null,
       "object_position": null,
       "order": null,
       "overflow": null,
       "padding": null,
       "right": null,
       "top": null,
       "visibility": null,
       "width": null
      }
     },
     "848b789263f14ccf91036dbd4b772676": {
      "model_module": "@jupyter-widgets/controls",
      "model_module_version": "2.0.0",
      "model_name": "FloatProgressModel",
      "state": {
       "_dom_classes": [],
       "_model_module": "@jupyter-widgets/controls",
       "_model_module_version": "2.0.0",
       "_model_name": "FloatProgressModel",
       "_view_count": null,
       "_view_module": "@jupyter-widgets/controls",
       "_view_module_version": "2.0.0",
       "_view_name": "ProgressView",
       "bar_style": "success",
       "description": "",
       "description_allow_html": false,
       "layout": "IPY_MODEL_91b10cd3b71d492b97f8bbf2c2c4f55c",
       "max": 5,
       "min": 0,
       "orientation": "horizontal",
       "style": "IPY_MODEL_ed567f7c76c54b68b6550bbecbf706ed",
       "tabbable": null,
       "tooltip": null,
       "value": 5
      }
     },
     "91b10cd3b71d492b97f8bbf2c2c4f55c": {
      "model_module": "@jupyter-widgets/base",
      "model_module_version": "2.0.0",
      "model_name": "LayoutModel",
      "state": {
       "_model_module": "@jupyter-widgets/base",
       "_model_module_version": "2.0.0",
       "_model_name": "LayoutModel",
       "_view_count": null,
       "_view_module": "@jupyter-widgets/base",
       "_view_module_version": "2.0.0",
       "_view_name": "LayoutView",
       "align_content": null,
       "align_items": null,
       "align_self": null,
       "border_bottom": null,
       "border_left": null,
       "border_right": null,
       "border_top": null,
       "bottom": null,
       "display": null,
       "flex": null,
       "flex_flow": null,
       "grid_area": null,
       "grid_auto_columns": null,
       "grid_auto_flow": null,
       "grid_auto_rows": null,
       "grid_column": null,
       "grid_gap": null,
       "grid_row": null,
       "grid_template_areas": null,
       "grid_template_columns": null,
       "grid_template_rows": null,
       "height": null,
       "justify_content": null,
       "justify_items": null,
       "left": null,
       "margin": null,
       "max_height": null,
       "max_width": null,
       "min_height": null,
       "min_width": null,
       "object_fit": null,
       "object_position": null,
       "order": null,
       "overflow": null,
       "padding": null,
       "right": null,
       "top": null,
       "visibility": null,
       "width": null
      }
     },
     "b029d883033542f5ac81f20a249870f6": {
      "model_module": "@jupyter-widgets/base",
      "model_module_version": "2.0.0",
      "model_name": "LayoutModel",
      "state": {
       "_model_module": "@jupyter-widgets/base",
       "_model_module_version": "2.0.0",
       "_model_name": "LayoutModel",
       "_view_count": null,
       "_view_module": "@jupyter-widgets/base",
       "_view_module_version": "2.0.0",
       "_view_name": "LayoutView",
       "align_content": null,
       "align_items": null,
       "align_self": null,
       "border_bottom": null,
       "border_left": null,
       "border_right": null,
       "border_top": null,
       "bottom": null,
       "display": null,
       "flex": null,
       "flex_flow": null,
       "grid_area": null,
       "grid_auto_columns": null,
       "grid_auto_flow": null,
       "grid_auto_rows": null,
       "grid_column": null,
       "grid_gap": null,
       "grid_row": null,
       "grid_template_areas": null,
       "grid_template_columns": null,
       "grid_template_rows": null,
       "height": null,
       "justify_content": null,
       "justify_items": null,
       "left": null,
       "margin": null,
       "max_height": null,
       "max_width": null,
       "min_height": null,
       "min_width": null,
       "object_fit": null,
       "object_position": null,
       "order": null,
       "overflow": null,
       "padding": null,
       "right": null,
       "top": null,
       "visibility": null,
       "width": null
      }
     },
     "e083d89fd68048398d02e1ffa409488d": {
      "model_module": "@jupyter-widgets/controls",
      "model_module_version": "2.0.0",
      "model_name": "HTMLStyleModel",
      "state": {
       "_model_module": "@jupyter-widgets/controls",
       "_model_module_version": "2.0.0",
       "_model_name": "HTMLStyleModel",
       "_view_count": null,
       "_view_module": "@jupyter-widgets/base",
       "_view_module_version": "2.0.0",
       "_view_name": "StyleView",
       "background": null,
       "description_width": "",
       "font_size": null,
       "text_color": null
      }
     },
     "ed567f7c76c54b68b6550bbecbf706ed": {
      "model_module": "@jupyter-widgets/controls",
      "model_module_version": "2.0.0",
      "model_name": "ProgressStyleModel",
      "state": {
       "_model_module": "@jupyter-widgets/controls",
       "_model_module_version": "2.0.0",
       "_model_name": "ProgressStyleModel",
       "_view_count": null,
       "_view_module": "@jupyter-widgets/base",
       "_view_module_version": "2.0.0",
       "_view_name": "StyleView",
       "bar_color": null,
       "description_width": ""
      }
     },
     "ef59ebf1c29048358db48d80f5da9eb5": {
      "model_module": "@jupyter-widgets/controls",
      "model_module_version": "2.0.0",
      "model_name": "HBoxModel",
      "state": {
       "_dom_classes": [],
       "_model_module": "@jupyter-widgets/controls",
       "_model_module_version": "2.0.0",
       "_model_name": "HBoxModel",
       "_view_count": null,
       "_view_module": "@jupyter-widgets/controls",
       "_view_module_version": "2.0.0",
       "_view_name": "HBoxView",
       "box_style": "",
       "children": [
        "IPY_MODEL_f8cdd7e57b3244c496e7d5ce271b2012",
        "IPY_MODEL_848b789263f14ccf91036dbd4b772676",
        "IPY_MODEL_f7db0a39b6e3492196e312933f072366"
       ],
       "layout": "IPY_MODEL_39da2929ed8c47cb9aaaa09b3aca7ba6",
       "tabbable": null,
       "tooltip": null
      }
     },
     "f7db0a39b6e3492196e312933f072366": {
      "model_module": "@jupyter-widgets/controls",
      "model_module_version": "2.0.0",
      "model_name": "HTMLModel",
      "state": {
       "_dom_classes": [],
       "_model_module": "@jupyter-widgets/controls",
       "_model_module_version": "2.0.0",
       "_model_name": "HTMLModel",
       "_view_count": null,
       "_view_module": "@jupyter-widgets/controls",
       "_view_module_version": "2.0.0",
       "_view_name": "HTMLView",
       "description": "",
       "description_allow_html": false,
       "layout": "IPY_MODEL_b029d883033542f5ac81f20a249870f6",
       "placeholder": "​",
       "style": "IPY_MODEL_e083d89fd68048398d02e1ffa409488d",
       "tabbable": null,
       "tooltip": null,
       "value": " 5/5 [00:00&lt;00:00,  3.54it/s]"
      }
     },
     "f8cdd7e57b3244c496e7d5ce271b2012": {
      "model_module": "@jupyter-widgets/controls",
      "model_module_version": "2.0.0",
      "model_name": "HTMLModel",
      "state": {
       "_dom_classes": [],
       "_model_module": "@jupyter-widgets/controls",
       "_model_module_version": "2.0.0",
       "_model_name": "HTMLModel",
       "_view_count": null,
       "_view_module": "@jupyter-widgets/controls",
       "_view_module_version": "2.0.0",
       "_view_name": "HTMLView",
       "description": "",
       "description_allow_html": false,
       "layout": "IPY_MODEL_6e820054439c4325818ec9a434f54328",
       "placeholder": "​",
       "style": "IPY_MODEL_123b559396904db78f5a77cb10460ad6",
       "tabbable": null,
       "tooltip": null,
       "value": "100%"
      }
     }
    },
    "version_major": 2,
    "version_minor": 0
   }
  }
 },
 "nbformat": 4,
 "nbformat_minor": 5
}
