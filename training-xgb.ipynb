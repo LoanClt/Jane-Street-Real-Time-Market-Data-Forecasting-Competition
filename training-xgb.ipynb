{
 "cells": [
  {
   "cell_type": "markdown",
   "metadata": {},
   "source": [
    "Traning on AutoDL"
   ]
  },
  {
   "cell_type": "code",
   "execution_count": null,
   "metadata": {
    "_cell_guid": "b1076dfc-b9ad-4769-8c92-a6c4dae69d19",
    "_uuid": "8f2839f25d086af736a60e9eeb907d3b93b6e0e5",
    "trusted": true
   },
   "outputs": [],
   "source": [
    "import pandas as pd\n",
    "import polars as pl\n",
    "import numpy as np\n",
    "import os\n",
    "from tqdm.auto import tqdm\n",
    "import psutil\n",
    "import pickle\n",
    "\n",
    "from sklearn.metrics import r2_score\n",
    "from lightgbm import LGBMRegressor\n",
    "import lightgbm as lgb\n",
    "from xgboost import XGBRegressor\n",
    "from catboost import CatBoostRegressor\n",
    "from sklearn.ensemble import VotingRegressor\n",
    "\n",
    "import warnings\n",
    "warnings.filterwarnings('ignore')\n",
    "pd.options.display.max_columns = None"
   ]
  },
  {
   "cell_type": "code",
   "execution_count": null,
   "metadata": {
    "trusted": true
   },
   "outputs": [],
   "source": [
    "class CONFIG:\n",
    "    seed = 28\n",
    "    \n",
    "    target_col = \"responder_6\"\n",
    "    feature_cols = [\"symbol_id\", \"time_id\"] \\\n",
    "        + [f\"feature_{idx:02d}\" for idx in range(79)] \\\n",
    "        + [f\"responder_{idx}_mean_lag\" for idx in range(9)] \\\n",
    "        + [f\"responder_{idx}_std_lag\" for idx in range(9)] \\\n",
    "        + [f\"responder_{idx}_max_lag\" for idx in range(9)] \\\n",
    "        + [f\"responder_{idx}_last_lag\" for idx in range(9)] \\\n",
    "        + [f\"responder_{idx}_chg_lag\" for idx in range(9)]\n"
   ]
  },
  {
   "cell_type": "code",
   "execution_count": null,
   "metadata": {
    "trusted": true
   },
   "outputs": [],
   "source": [
    "def get_model(seed):\n",
    "    XGB_Params = {\n",
    "        'learning_rate': 0.05, #学习率，控制每棵树对最终结果的贡献程度\n",
    "        'max_depth': 6, #每棵树的最大深度\n",
    "        'n_estimators': 250, #迭代次数\n",
    "        'subsample': 0.8, #随机采样样本比例，防止过拟合\n",
    "        'colsample_bytree': 0.8, #每棵树训练时使用的特征比率\n",
    "        'reg_alpha': 1, #L1正则化\n",
    "        'reg_lambda': 1, #L2正则化\n",
    "        'random_state': seed,\n",
    "        'tree_method': 'gpu_hist',\n",
    "        'device' : 'cuda',\n",
    "        'n_gpus' : 4\n",
    "    }\n",
    "    \n",
    "    XGB_Model = XGBRegressor(**XGB_Params)\n",
    "    return XGB_Model"
   ]
  },
  {
   "cell_type": "code",
   "execution_count": null,
   "metadata": {
    "trusted": true
   },
   "outputs": [],
   "source": [
    "train_path = '/root/autodl-tmp/train.parquet'\n",
    "train = pl.scan_parquet(train_path)"
   ]
  },
  {
   "cell_type": "code",
   "execution_count": null,
   "metadata": {
    "trusted": true
   },
   "outputs": [],
   "source": [
    "X_train = train.select(CONFIG.feature_cols).collect()\n",
    "X_train.shape"
   ]
  },
  {
   "cell_type": "code",
   "execution_count": null,
   "metadata": {
    "trusted": true
   },
   "outputs": [],
   "source": [
    "y_train = train.select(CONFIG.target_col).collect()\n",
    "w_train = train.select('weight').collect()\n",
    "y_train.shape,w_train.shape"
   ]
  },
  {
   "cell_type": "code",
   "execution_count": null,
   "metadata": {
    "trusted": true
   },
   "outputs": [],
   "source": [
    "%%time\n",
    "model = get_model(CONFIG.seed)\n",
    "model.fit( X_train, y_train, sample_weight=w_train)"
   ]
  },
  {
   "cell_type": "code",
   "execution_count": null,
   "metadata": {
    "trusted": true
   },
   "outputs": [],
   "source": [
    "result = {\n",
    "    \"model\" : model,\n",
    "}\n",
    "with open(\"result_900.pkl\", \"wb\") as fp:\n",
    "    pickle.dump(result, fp)"
   ]
  },
  {
   "cell_type": "code",
   "execution_count": null,
   "metadata": {
    "trusted": true
   },
   "outputs": [],
   "source": [
    "y_pred_valid = model.predict(X_train.tail(5000000))\n",
    "valid_score = r2_score(y_train.tail(5000000), y_pred_valid, sample_weight=w_train.tail(5000000) )\n",
    "valid_score"
   ]
  }
 ],
 "metadata": {
  "kernelspec": {
   "display_name": "Python 3",
   "language": "python",
   "name": "python3"
  },
  "language_info": {
   "codemirror_mode": {
    "name": "ipython",
    "version": 3
   },
   "file_extension": ".py",
   "mimetype": "text/x-python",
   "name": "python",
   "nbconvert_exporter": "python",
   "pygments_lexer": "ipython3",
   "version": "3.6.4"
  }
 },
 "nbformat": 4,
 "nbformat_minor": 4
}
