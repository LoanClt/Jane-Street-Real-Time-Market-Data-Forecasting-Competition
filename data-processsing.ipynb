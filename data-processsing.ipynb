{
 "cells": [
  {
   "cell_type": "code",
   "execution_count": 2,
   "metadata": {
    "_cell_guid": "b1076dfc-b9ad-4769-8c92-a6c4dae69d19",
    "_uuid": "8f2839f25d086af736a60e9eeb907d3b93b6e0e5",
    "execution": {
     "iopub.execute_input": "2025-01-03T11:45:25.437963Z",
     "iopub.status.busy": "2025-01-03T11:45:25.437451Z",
     "iopub.status.idle": "2025-01-03T11:45:25.442950Z",
     "shell.execute_reply": "2025-01-03T11:45:25.441782Z",
     "shell.execute_reply.started": "2025-01-03T11:45:25.437919Z"
    },
    "trusted": true
   },
   "outputs": [],
   "source": [
    "import pandas as pd\n",
    "import polars as pl\n",
    "import numpy as np\n",
    "import gc \n",
    "#import kaggle #如果是本地或服务器环境"
   ]
  },
  {
   "cell_type": "code",
   "execution_count": null,
   "metadata": {
    "execution": {
     "iopub.execute_input": "2025-01-03T11:47:02.487008Z",
     "iopub.status.busy": "2025-01-03T11:47:02.486569Z",
     "iopub.status.idle": "2025-01-03T11:47:02.492489Z",
     "shell.execute_reply": "2025-01-03T11:47:02.491330Z",
     "shell.execute_reply.started": "2025-01-03T11:47:02.486976Z"
    },
    "trusted": true
   },
   "outputs": [],
   "source": [
    "#主办方提供的匿名数据集包括responder0~8,feature_0~78,其中responder6为待预测值。\n",
    "#responder为每个日期结束后才能获取的滞后数据\n",
    "class CONFIG:\n",
    "    target_col = \"responder_6\"\n",
    "    cols_original = [\"date_id\",'time_id',\"symbol_id\"] + [f\"responder_{idx}\" for idx in range(9)] \n",
    "    responder_cols = [f\"responder_{idx}\" for idx in range(9)]\n",
    "    feature_cols = [f\"feature_{idx:02d}\" for idx in range(79)]\n",
    "    start_dt = 900"
   ]
  },
  {
   "cell_type": "code",
   "execution_count": null,
   "metadata": {
    "execution": {
     "iopub.execute_input": "2025-01-03T11:45:25.464639Z",
     "iopub.status.busy": "2025-01-03T11:45:25.464126Z",
     "iopub.status.idle": "2025-01-03T11:45:25.480394Z",
     "shell.execute_reply": "2025-01-03T11:45:25.479296Z",
     "shell.execute_reply.started": "2025-01-03T11:45:25.464560Z"
    },
    "trusted": true
   },
   "outputs": [],
   "source": [
    "#简单的特征工程\n",
    "def create_agg_list(columns):\n",
    "    agg_mean_list = [pl.col(c).mean().name.suffix(f\"_mean_lag\") for c in columns]\n",
    "    agg_std_list = [pl.col(c).std().name.suffix(f\"_std_lag\") for c in columns]\n",
    "    agg_max_list = [pl.col(c).max().name.suffix(f\"_max_lag\") for c in columns]\n",
    "    agg_last_list = [pl.col(c).last().name.suffix(f\"_last_lag\") for c in columns]\n",
    "    agg_chg_list = [(pl.col(c).last()/pl.col(c).first() - 1).name.suffix(f\"_chg_lag\") for c in columns]\n",
    "    agg_list = agg_mean_list + agg_std_list + agg_max_list + agg_last_list + agg_chg_list\n",
    "    return agg_list"
   ]
  },
  {
   "cell_type": "code",
   "execution_count": null,
   "metadata": {
    "execution": {
     "iopub.execute_input": "2025-01-03T11:45:25.482456Z",
     "iopub.status.busy": "2025-01-03T11:45:25.482113Z",
     "iopub.status.idle": "2025-01-03T11:45:25.523896Z",
     "shell.execute_reply": "2025-01-03T11:45:25.522694Z",
     "shell.execute_reply.started": "2025-01-03T11:45:25.482425Z"
    },
    "trusted": true
   },
   "outputs": [],
   "source": [
    "# 只使用900天后的数据进行训练和测试\n",
    "# /kaggle/input/jane-street-real-time-market-data-forecasting/train.parquet\n",
    "train = pl.scan_parquet(\n",
    "    f\"/root/autodl-tmp/jane-street-real-time-market-data-forecasting/train.parquet\"\n",
    ").filter(\n",
    "    pl.col(\"date_id\").gt(CONFIG.start_dt)\n",
    ")"
   ]
  },
  {
   "cell_type": "code",
   "execution_count": null,
   "metadata": {
    "execution": {
     "iopub.execute_input": "2025-01-03T11:45:25.525409Z",
     "iopub.status.busy": "2025-01-03T11:45:25.524950Z",
     "iopub.status.idle": "2025-01-03T11:45:25.540774Z",
     "shell.execute_reply": "2025-01-03T11:45:25.539739Z",
     "shell.execute_reply.started": "2025-01-03T11:45:25.525366Z"
    },
    "trusted": true
   },
   "outputs": [],
   "source": [
    "#求responder的每天的mean,std等agg_list\n",
    "agg_list = create_agg_list(CONFIG.responder_cols)\n",
    "\n",
    "#由于responder为滞后数据，今日“开盘”时只能获取到昨日的“收盘”数据\n",
    "lag_data = train.select(CONFIG.cols_original) \n",
    "lag_data = lag_data.with_columns(\n",
    "    date_id = pl.col('date_id') + 1,\n",
    "    ) \n",
    "lag_data = lag_data.group_by([\"date_id\",\"symbol_id\"], maintain_order=True).agg(agg_list)"
   ]
  },
  {
   "cell_type": "code",
   "execution_count": 7,
   "metadata": {
    "execution": {
     "iopub.execute_input": "2025-01-03T11:45:25.542227Z",
     "iopub.status.busy": "2025-01-03T11:45:25.541796Z",
     "iopub.status.idle": "2025-01-03T11:45:25.565298Z",
     "shell.execute_reply": "2025-01-03T11:45:25.564090Z",
     "shell.execute_reply.started": "2025-01-03T11:45:25.542189Z"
    },
    "trusted": true
   },
   "outputs": [],
   "source": [
    "train = train.join(lag_data, on=[\"date_id\", \"symbol_id\"],  how=\"left\")"
   ]
  },
  {
   "cell_type": "code",
   "execution_count": null,
   "metadata": {
    "execution": {
     "iopub.execute_input": "2025-01-03T11:45:25.566981Z",
     "iopub.status.busy": "2025-01-03T11:45:25.566549Z",
     "iopub.status.idle": "2025-01-03T11:45:25.586744Z",
     "shell.execute_reply": "2025-01-03T11:45:25.585240Z",
     "shell.execute_reply.started": "2025-01-03T11:45:25.566939Z"
    },
    "trusted": true
   },
   "outputs": [],
   "source": [
    "# ‘train.parquet'\n",
    "# kaggle只支持92列以内polars dataframe的collect\n",
    "# 训练集、测试集放在一个文件里\n",
    "train.collect().write_parquet(\"autodl-tmp/train.parquet\", partition_by = \"date_id\")"
   ]
  }
 ],
 "metadata": {
  "kaggle": {
   "accelerator": "none",
   "dataSources": [
    {
     "databundleVersionId": 9871156,
     "sourceId": 84493,
     "sourceType": "competition"
    }
   ],
   "dockerImageVersionId": 30822,
   "isGpuEnabled": false,
   "isInternetEnabled": true,
   "language": "python",
   "sourceType": "notebook"
  },
  "kernelspec": {
   "display_name": "Python 3",
   "language": "python",
   "name": "python3"
  },
  "language_info": {
   "codemirror_mode": {
    "name": "ipython",
    "version": 3
   },
   "file_extension": ".py",
   "mimetype": "text/x-python",
   "name": "python",
   "nbconvert_exporter": "python",
   "pygments_lexer": "ipython3",
   "version": "3.10.12"
  }
 },
 "nbformat": 4,
 "nbformat_minor": 4
}
